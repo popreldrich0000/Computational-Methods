{
 "cells": [
  {
   "cell_type": "markdown",
   "metadata": {
    "id": "1uVqtp970rwv"
   },
   "source": [
    "**_Importing relevent libraries_**"
   ]
  },
  {
   "cell_type": "code",
   "execution_count": 2,
   "metadata": {
    "id": "9eO3yrSfT6It"
   },
   "outputs": [],
   "source": [
    "import numpy as np\n",
    "import sympy as smp\n",
    "from scipy.integrate import odeint\n",
    "import matplotlib.pyplot as plt\n",
    "from matplotlib import animation\n",
    "from mpl_toolkits.mplot3d import Axes3D\n",
    "from matplotlib.animation import PillowWriter"
   ]
  },
  {
   "cell_type": "markdown",
   "metadata": {
    "id": "qLe_Z9Fw00X7"
   },
   "source": [
    "**_Using sympy to set up time , mass and length symbols(independent variables)_**"
   ]
  },
  {
   "cell_type": "code",
   "execution_count": 3,
   "metadata": {
    "id": "PUqjkEeu0hdQ"
   },
   "outputs": [],
   "source": [
    "t, g = smp.symbols('t g')\n",
    "m1, m2 = smp.symbols('m1 m2')\n",
    "L1, L2 = smp.symbols('L1 L2')"
   ]
  },
  {
   "cell_type": "markdown",
   "metadata": {
    "id": "xTLDZMhQ1lG5"
   },
   "source": [
    "**_Defining the angle variables(independent variables, funcgtion of time)_**"
   ]
  },
  {
   "cell_type": "code",
   "execution_count": 4,
   "metadata": {
    "id": "8Ku0HaXf17d5"
   },
   "outputs": [],
   "source": [
    "theta1, theta2 = smp.symbols(r'\\theta_1, \\theta_2', cls=smp.Function)"
   ]
  },
  {
   "cell_type": "markdown",
   "metadata": {
    "id": "ZcCBxVdO3kwq"
   },
   "source": [
    "**_Defining them explicitly as a function of time *t*_**"
   ]
  },
  {
   "cell_type": "code",
   "execution_count": 5,
   "metadata": {
    "id": "g8kI39YC1jxb"
   },
   "outputs": [],
   "source": [
    "the1 = theta1(t)\n",
    "the2 = theta2(t)"
   ]
  },
  {
   "cell_type": "markdown",
   "metadata": {
    "id": "m02JZy2G5k-4"
   },
   "source": [
    "**_Defining first and second derivative_**"
   ]
  },
  {
   "cell_type": "code",
   "execution_count": 9,
   "metadata": {
    "id": "O6O4G_JS462s"
   },
   "outputs": [],
   "source": [
    "the1_d = smp.diff(the1,t)\n",
    "the2_d = smp.diff(the2,t)\n",
    "the1_dd = smp.diff(the1_d,t)\n",
    "the2_dd = smp.diff(the2_d,t)"
   ]
  },
  {
   "cell_type": "markdown",
   "metadata": {
    "id": "ihtsytY46gy0"
   },
   "source": [
    "**_Defining x1 , y1 , x2 and y2 in terms of the angle(theta) taking the point on the wall and the rod 1 as the origin(cartesian coordinates) used to define kinetic and  potential energy_**\n",
    "\n",
    "---\n",
    "\n"
   ]
  },
  {
   "cell_type": "code",
   "execution_count": 10,
   "metadata": {
    "id": "3DfedN4d6f1S"
   },
   "outputs": [],
   "source": [
    "x1 = L1*smp.sin(the1)\n",
    "y1 = -L1*smp.cos(the1)\n",
    "x2 = L1*smp.sin(the1) + L2*smp.sin(the2)\n",
    "y2 = -L1*smp.cos(the1) - L2*smp.cos(the2)"
   ]
  },
  {
   "cell_type": "markdown",
   "metadata": {
    "id": "PhlNULzu9QwW"
   },
   "source": [
    "**_Plan : 1) Kinetic energy and potential energy -> 2) gives us lagrangian ->3) gives us langragian equation of motion -> 4) Solving the differential equations_**"
   ]
  },
  {
   "cell_type": "markdown",
   "metadata": {
    "id": "B36OSIdU92Tp"
   },
   "source": [
    "**_1) Kinetic energy and potential energy_**"
   ]
  },
  {
   "cell_type": "code",
   "execution_count": 11,
   "metadata": {
    "id": "oddx6u7m4tod"
   },
   "outputs": [],
   "source": [
    "# Kinetic Energy\n",
    "T1 = 1/2 * m1 * ((smp.diff(x1,t))**2 + (smp.diff(y1,t))**2)\n",
    "T2 = 1/2 * m2 * ((smp.diff(x2,t))**2 + (smp.diff(y2,t))**2)\n",
    "T = T1 + T2\n",
    "# Potential Energy\n",
    "V1 = m1*g*y1\n",
    "V2 = m2*g*y2\n",
    "V = V1 + V2"
   ]
  },
  {
   "cell_type": "markdown",
   "metadata": {
    "id": "xb9VntyeD6F8"
   },
   "source": [
    "**_2) Defining the lagrangian_**"
   ]
  },
  {
   "cell_type": "code",
   "execution_count": 12,
   "metadata": {
    "id": "H7ije5mk4MNl"
   },
   "outputs": [],
   "source": [
    "# Lagrangian\n",
    "L = T - V"
   ]
  },
  {
   "cell_type": "markdown",
   "metadata": {
    "id": "5Gf6mjaxOdvD"
   },
   "source": [
    "**_Writing a diferential equation_**"
   ]
  },
  {
   "cell_type": "code",
   "execution_count": 13,
   "metadata": {
    "id": "cN6basC3NeXo"
   },
   "outputs": [],
   "source": [
    "#example of a differential equation\n",
    "# where we write a simple differential equation\n",
    "from math import *\n",
    "\n",
    "x = smp.symbols('x')\n",
    "y = smp.Function('y')\n",
    "diffeq = smp.Eq(y(x).diff(x), smp.sin(x))\n"
   ]
  },
  {
   "cell_type": "markdown",
   "metadata": {
    "id": "qSg92FhAObQM"
   },
   "source": [
    "**_3)Getting the differential equations \n",
    "<br/>\n",
    "<br/>\n",
    "Lagrange's Equations_**\n",
    "\n",
    "$\\frac{\\partial L}{\\partial Θ_1} - \\frac{\\partial }{\\partial t}(\\frac{\\partial L}{\\partial \\dot{Θ_1}}) = 0$\n",
    "\n",
    "$\\frac{\\partial L}{\\partial Θ_2} - \\frac{\\partial }{\\partial t}(\\frac{\\partial L}{\\partial \\dot{Θ_2}}) = 0$"
   ]
  },
  {
   "cell_type": "code",
   "execution_count": 14,
   "metadata": {
    "id": "j5sbB9IoCSp_"
   },
   "outputs": [],
   "source": [
    "LE1 = smp.diff(L, the1) - smp.diff(smp.diff(L, the1_d),t).simplify()\n",
    "LE2 = smp.diff(L, the2) - smp.diff(smp.diff(L, the2_d),t).simplify()"
   ]
  },
  {
   "cell_type": "markdown",
   "metadata": {
    "id": "NdAsSX9Rk3Z1"
   },
   "source": [
    "**_4) Solving the differential equation_**"
   ]
  },
  {
   "cell_type": "markdown",
   "metadata": {
    "id": "r2e_UCLKlDU_"
   },
   "source": [
    "**_Equation LE1 and LE2 is equal to zero and So we can write the second derivative of theta 1 and theta 2 in terms of other variables and the first derivative of theta 1 and first derivative of theta 2._**"
   ]
  },
  {
   "cell_type": "code",
   "execution_count": 15,
   "metadata": {
    "id": "XJo8v6AYk-db"
   },
   "outputs": [],
   "source": [
    "#So we have 2 equations and 2 variables(second derivative of thetas)\n",
    "sols = smp.solve([LE1, LE2], (the1_dd, the2_dd),simplify=False, rational=False)"
   ]
  },
  {
   "cell_type": "code",
   "execution_count": 16,
   "metadata": {
    "id": "EMyBFPbSkKgW"
   },
   "outputs": [],
   "source": [
    "#The first derivative :\n",
    "#sols[the1_dd]\n",
    "\n",
    "\n",
    "\n",
    "#The second derivative :\n",
    "#sols[the2_dd]\n"
   ]
  },
  {
   "cell_type": "markdown",
   "metadata": {
    "id": "LUpy3xaSnVgN"
   },
   "source": [
    "**_So  we have the second derivatives of thetas_**\n",
    "<br/>\n",
    "<br/>\n",
    "<br/>\n",
    "\n",
    "$\\frac{d^2 Θ_1}{d t^2}=...$\n",
    "<br/>\n",
    "$\\frac{d^2 Θ_2}{d t^2}=...$\n",
    "<br/>\n",
    "**_In python we cannot solve 2nd order differential equation, In python we can only solve 1st order ODEs , So we have to convert the above 2nd order equation into 1st order equation by substitution .\n",
    "we will take : <br/> $z_1 = \\frac{d Θ_1}{d t} $ ,$\\frac{d z_1}{d t} =  \\frac{d^2 Θ_1}{d t^2}$ <br/> $z_2 = \\frac{d Θ_2}{d t} $ ,$\\frac{d z_2}{d t} =  \\frac{d^2 Θ_2}{d t^2}$\n",
    "<br/> We have a system of 4 first order ODEs:<br/>_**\n",
    "\n",
    "*   $\\frac{d z_1}{d t} = ....$\n",
    "*   $z_1 = \\frac{d Θ_1}{d t} $\n",
    "*   $\\frac{d z_2}{d t} = ....$\n",
    "*   $z_2 = \\frac{d Θ_2}{d t} $\n",
    "\n",
    "\n",
    "\n",
    "\n"
   ]
  },
  {
   "cell_type": "markdown",
   "metadata": {
    "id": "aSicV_sJTaCk"
   },
   "source": [
    "**_Now we will convert the symbolic representation in numerical expression, So that python can solve it using numerical methods_**"
   ]
  },
  {
   "cell_type": "code",
   "execution_count": 17,
   "metadata": {
    "id": "4LDs6m0QToLM"
   },
   "outputs": [],
   "source": [
    "dz1dt_N = smp.lambdify((t,g,m1,m2,L1,L2,the1,the2,the1_d,the2_d), sols[the1_dd])\n",
    "dz2dt_N = smp.lambdify((t,g,m1,m2,L1,L2,the1,the2,the1_d,the2_d), sols[the2_dd])\n",
    "dthe1dt_N = smp.lambdify(the1_d, the1_d)\n",
    "dthe2dt_N = smp.lambdify(the2_d, the2_d) "
   ]
  },
  {
   "cell_type": "code",
   "execution_count": 18,
   "metadata": {
    "id": "QgYq7B4gU5IM"
   },
   "outputs": [
    {
     "data": {
      "text/plain": [
       "6.794698310198159"
      ]
     },
     "execution_count": 18,
     "metadata": {},
     "output_type": "execute_result"
    }
   ],
   "source": [
    "dz1dt_N(2,9.81,1,1,1,1,4,2,5,3)\n",
    "# = 6.794698310198159\n"
   ]
  },
  {
   "cell_type": "markdown",
   "metadata": {
    "id": "e3I40fTpWEX8"
   },
   "source": [
    "**_We will now define $\\vec{S} = (Θ_1, z_1,Θ_2,z_2)$, $\\vec{S}$ will contain all variables that we have to find. In ODE solver in python we have to define_** $\\frac{d \\vec{S}}{d t}$, **_So we will make a function_** **dSdt** **_for this_**.<br/>$\\frac{d \\vec{S}}{d t}$ **_dependes only on_** $\\vec{S}$ **_and_** $t$"
   ]
  },
  {
   "cell_type": "code",
   "execution_count": 19,
   "metadata": {
    "id": "KdSJ0VlNYFaf"
   },
   "outputs": [],
   "source": [
    "def dSdt(S, t, g, m1, m2, L1, L2):\n",
    "  the1, z1, the2, z2 = S\n",
    "  return [\n",
    "          dthe1dt_N(z1),\n",
    "          dz1dt_N(t,g,m1,m2,L1,L2,the1,the2,z1,z2),\n",
    "          dthe2dt_N(z2),\n",
    "          dz2dt_N(t,g,m1,m2,L1,L2,the1,the2,z1,z2)\n",
    "  ]"
   ]
  },
  {
   "cell_type": "markdown",
   "metadata": {
    "id": "GBLG-B93eofk"
   },
   "source": [
    "**_Solving the ODEs using \"Scipys Odeint Method\"_**"
   ]
  },
  {
   "cell_type": "code",
   "execution_count": 20,
   "metadata": {
    "id": "y0VdCGDcezi6"
   },
   "outputs": [],
   "source": [
    "t = np.linspace(0, 40, 1001)\n",
    "g = 9.81\n",
    "m1 = 2\n",
    "m2 = 1\n",
    "L1 = 2\n",
    "L2 = 1\n",
    "ans = odeint(dSdt, y0=[1,-3,-1,5], t=t, args=(g,m1,m2,L1,L2))"
   ]
  },
  {
   "cell_type": "markdown",
   "metadata": {
    "id": "bbWdEDaafZjb"
   },
   "source": [
    "**_To find the frame rate we will find how mnty data points are in 1 sec_**"
   ]
  },
  {
   "cell_type": "code",
   "execution_count": 21,
   "metadata": {
    "id": "xpeUVLigfkQ7"
   },
   "outputs": [
    {
     "data": {
      "text/plain": [
       "25"
      ]
     },
     "execution_count": 21,
     "metadata": {},
     "output_type": "execute_result"
    }
   ],
   "source": [
    "len(t[t<1])\n",
    "#25 here in this example 25 is the frame rate\n",
    "# 25 = 1000/40"
   ]
  },
  {
   "cell_type": "markdown",
   "metadata": {
    "id": "1mBYGOF2gBPW"
   },
   "source": [
    "**_We obtain $\\theta_1$ and $\\theta_2$ afetr transposing the ans matrix_**"
   ]
  },
  {
   "cell_type": "code",
   "execution_count": 22,
   "metadata": {
    "id": "jUg37W_HgTxz"
   },
   "outputs": [],
   "source": [
    "Theta_1 = ans.T[0]\n",
    "Theta_2 = ans.T[2]"
   ]
  },
  {
   "cell_type": "markdown",
   "metadata": {
    "id": "MA0-omeMg470"
   },
   "source": [
    "**_now plotting the Theta_1 and Theta_2 in matplotlib we get_**"
   ]
  },
  {
   "cell_type": "markdown",
   "metadata": {
    "id": "uKOEB-RpgADB"
   },
   "source": [
    "plt.plot(t, Theta_1,label=theta1)\n",
    "plt.plot(t, Theta_2,label=theta2)\n",
    "plt.legend()\n",
    "plt.show()"
   ]
  },
  {
   "cell_type": "markdown",
   "metadata": {
    "id": "xUgFRwuHh2Hr"
   },
   "source": [
    "![download (1).png](data:image/png;base64,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)\n",
    "\n",
    "\n",
    "**_This is the plot of theta_1 vs time and Theta_2 vs time_**"
   ]
  },
  {
   "cell_type": "markdown",
   "metadata": {
    "id": "73Hh67QOjjBW"
   },
   "source": [
    "**_Just using theta_1 and theta_2 values we have all the information about the position of the masses and so we can now animate using these arrays._**"
   ]
  },
  {
   "cell_type": "markdown",
   "metadata": {
    "id": "g_HUn0hQj-Ie"
   },
   "source": [
    "**_So now we will create a function that takes_** $\\theta_1 , \\theta_2, L1, L2, and \\:t$ **_where_** $t$ **_is the time array and will return the coordinates of the masses in the cartesian format._**"
   ]
  },
  {
   "cell_type": "code",
   "execution_count": 30,
   "metadata": {
    "id": "0aH3QNwSj5Rn"
   },
   "outputs": [],
   "source": [
    "def get_x1y1x2y2(t, Theta_1, Theta_2, L1, L2):\n",
    "  return (L1*np.sin(Theta_1),\n",
    "          -L1*np.cos(Theta_1),\n",
    "          L1*np.sin(Theta_1) + L2*np.sin(Theta_2),\n",
    "          -L1*np.cos(Theta_1) - L2*np.cos(Theta_2))\n",
    "x1, y1, x2, y2 = get_x1y1x2y2(t, ans.T[0],ans.T[2],L1,L2)\n",
    "  "
   ]
  },
  {
   "cell_type": "markdown",
   "metadata": {
    "id": "iDc2ymB4nCLy"
   },
   "source": [
    "**_Now we can start animating_**\n"
   ]
  },
  {
   "cell_type": "code",
   "execution_count": null,
   "metadata": {
    "id": "m-0ueSAZnRcN"
   },
   "outputs": [],
   "source": [
    "#animation function takes argumnet as the nth frame of the animation\n",
    "\n",
    "def animate(i):\n",
    "  ln1.set_data([0, x1[i],x2[i]],[0,y1[i],y2[i]])\n",
    "  # here 0 before the x1 , x2  and 0 before y1, y2 signifies the origin\n",
    "fig, ax = plt.subplots(1,1, figsize=(8,8))\n",
    "ax.set_facecolor('k')\n",
    "ax.get_xaxis().set_ticks([]) #hides the x ticks \n",
    "ax.get_yaxis().set_ticks([]) #hides the y ticks\n",
    "ln1, = plt.plot([],[],'ro--', lw=3, markersize=8)\n",
    "ax.set_ylim(-4,4)\n",
    "ax.set_xlim(-4,4)\n",
    "ani = animation.FuncAnimation(fig,animate, frames=1000, interval=50)\n",
    "# here 'frames' argument is the total number of frames in the animation \n",
    "ani.save('pen.gif', writer='pillow',fps=25)\n"
   ]
  },
  {
   "cell_type": "code",
   "execution_count": null,
   "metadata": {
    "id": "3xtwUHHFuz0I"
   },
   "outputs": [],
   "source": [
    "#from IPython.display import HTML \n",
    "#HTML(ani.to_html5_video())"
   ]
  },
  {
   "cell_type": "code",
   "execution_count": 36,
   "metadata": {},
   "outputs": [],
   "source": [
    "#uncomment the following code to see the animation in slider and then to open the slider just run ani\n"
   ]
  },
  {
   "cell_type": "code",
   "execution_count": null,
   "metadata": {
    "id": "AqWR8MBQsAeJ"
   },
   "outputs": [],
   "source": [
    "from matplotlib import rc\n",
    "rc('animation', html='jshtml')\n",
    "ani"
   ]
  }
 ],
 "metadata": {
  "colab": {
   "collapsed_sections": [],
   "name": "Double_pendulum.ipynb",
   "provenance": []
  },
  "kernelspec": {
   "display_name": "Python 3 (ipykernel)",
   "language": "python",
   "name": "python3"
  },
  "language_info": {
   "codemirror_mode": {
    "name": "ipython",
    "version": 3
   },
   "file_extension": ".py",
   "mimetype": "text/x-python",
   "name": "python",
   "nbconvert_exporter": "python",
   "pygments_lexer": "ipython3",
   "version": "3.9.7"
  }
 },
 "nbformat": 4,
 "nbformat_minor": 1
}
